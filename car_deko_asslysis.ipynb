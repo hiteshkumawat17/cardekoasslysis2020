{
 "cells": [
  {
   "cell_type": "markdown",
   "id": "9126207b",
   "metadata": {},
   "source": [
    "# Data Preprocessing"
   ]
  },
  {
   "cell_type": "code",
   "execution_count": 1,
   "id": "84164b50",
   "metadata": {
    "scrolled": false
   },
   "outputs": [
    {
     "name": "stderr",
     "output_type": "stream",
     "text": [
      "/home/sony/anaconda3/lib/python3.8/site-packages/IPython/core/interactiveshell.py:3441: FutureWarning: The error_bad_lines argument has been deprecated and will be removed in a future version.\n",
      "\n",
      "\n",
      "  exec(code_obj, self.user_global_ns, self.user_ns)\n"
     ]
    },
    {
     "data": {
      "text/html": [
       "<div>\n",
       "<style scoped>\n",
       "    .dataframe tbody tr th:only-of-type {\n",
       "        vertical-align: middle;\n",
       "    }\n",
       "\n",
       "    .dataframe tbody tr th {\n",
       "        vertical-align: top;\n",
       "    }\n",
       "\n",
       "    .dataframe thead th {\n",
       "        text-align: right;\n",
       "    }\n",
       "</style>\n",
       "<table border=\"1\" class=\"dataframe\">\n",
       "  <thead>\n",
       "    <tr style=\"text-align: right;\">\n",
       "      <th></th>\n",
       "      <th>name</th>\n",
       "      <th>year</th>\n",
       "      <th>selling_price</th>\n",
       "      <th>km_driven</th>\n",
       "      <th>fuel</th>\n",
       "      <th>seller_type</th>\n",
       "      <th>transmission</th>\n",
       "      <th>owner</th>\n",
       "    </tr>\n",
       "  </thead>\n",
       "  <tbody>\n",
       "    <tr>\n",
       "      <th>0</th>\n",
       "      <td>Maruti 800 AC</td>\n",
       "      <td>2007</td>\n",
       "      <td>60000</td>\n",
       "      <td>70000</td>\n",
       "      <td>Petrol</td>\n",
       "      <td>Individual</td>\n",
       "      <td>Manual</td>\n",
       "      <td>First Owner</td>\n",
       "    </tr>\n",
       "    <tr>\n",
       "      <th>1</th>\n",
       "      <td>Maruti Wagon R LXI Minor</td>\n",
       "      <td>2007</td>\n",
       "      <td>135000</td>\n",
       "      <td>50000</td>\n",
       "      <td>Petrol</td>\n",
       "      <td>Individual</td>\n",
       "      <td>Manual</td>\n",
       "      <td>First Owner</td>\n",
       "    </tr>\n",
       "    <tr>\n",
       "      <th>2</th>\n",
       "      <td>Hyundai Verna 1.6 SX</td>\n",
       "      <td>2012</td>\n",
       "      <td>600000</td>\n",
       "      <td>100000</td>\n",
       "      <td>Diesel</td>\n",
       "      <td>Individual</td>\n",
       "      <td>Manual</td>\n",
       "      <td>First Owner</td>\n",
       "    </tr>\n",
       "    <tr>\n",
       "      <th>3</th>\n",
       "      <td>Datsun RediGO T Option</td>\n",
       "      <td>2017</td>\n",
       "      <td>250000</td>\n",
       "      <td>46000</td>\n",
       "      <td>Petrol</td>\n",
       "      <td>Individual</td>\n",
       "      <td>Manual</td>\n",
       "      <td>First Owner</td>\n",
       "    </tr>\n",
       "    <tr>\n",
       "      <th>4</th>\n",
       "      <td>Honda Amaze VX i-DTEC</td>\n",
       "      <td>2014</td>\n",
       "      <td>450000</td>\n",
       "      <td>141000</td>\n",
       "      <td>Diesel</td>\n",
       "      <td>Individual</td>\n",
       "      <td>Manual</td>\n",
       "      <td>Second Owner</td>\n",
       "    </tr>\n",
       "  </tbody>\n",
       "</table>\n",
       "</div>"
      ],
      "text/plain": [
       "                       name  year  selling_price  km_driven    fuel  \\\n",
       "0             Maruti 800 AC  2007          60000      70000  Petrol   \n",
       "1  Maruti Wagon R LXI Minor  2007         135000      50000  Petrol   \n",
       "2      Hyundai Verna 1.6 SX  2012         600000     100000  Diesel   \n",
       "3    Datsun RediGO T Option  2017         250000      46000  Petrol   \n",
       "4     Honda Amaze VX i-DTEC  2014         450000     141000  Diesel   \n",
       "\n",
       "  seller_type transmission         owner  \n",
       "0  Individual       Manual   First Owner  \n",
       "1  Individual       Manual   First Owner  \n",
       "2  Individual       Manual   First Owner  \n",
       "3  Individual       Manual   First Owner  \n",
       "4  Individual       Manual  Second Owner  "
      ]
     },
     "execution_count": 1,
     "metadata": {},
     "output_type": "execute_result"
    }
   ],
   "source": [
    "import pandas as pd\n",
    "car_data = pd.read_csv('car_data.csv',encoding='utf8',error_bad_lines=False)\n",
    "car_data.head()"
   ]
  },
  {
   "cell_type": "code",
   "execution_count": 2,
   "id": "187d91cc",
   "metadata": {
    "scrolled": true
   },
   "outputs": [
    {
     "data": {
      "text/html": [
       "<div>\n",
       "<style scoped>\n",
       "    .dataframe tbody tr th:only-of-type {\n",
       "        vertical-align: middle;\n",
       "    }\n",
       "\n",
       "    .dataframe tbody tr th {\n",
       "        vertical-align: top;\n",
       "    }\n",
       "\n",
       "    .dataframe thead th {\n",
       "        text-align: right;\n",
       "    }\n",
       "</style>\n",
       "<table border=\"1\" class=\"dataframe\">\n",
       "  <thead>\n",
       "    <tr style=\"text-align: right;\">\n",
       "      <th></th>\n",
       "      <th>name</th>\n",
       "      <th>year</th>\n",
       "      <th>selling_price</th>\n",
       "      <th>km_driven</th>\n",
       "      <th>fuel</th>\n",
       "      <th>seller_type</th>\n",
       "      <th>transmission</th>\n",
       "      <th>owner</th>\n",
       "    </tr>\n",
       "  </thead>\n",
       "  <tbody>\n",
       "    <tr>\n",
       "      <th>4335</th>\n",
       "      <td>Hyundai i20 Magna 1.4 CRDi (Diesel)</td>\n",
       "      <td>2014</td>\n",
       "      <td>409999</td>\n",
       "      <td>80000</td>\n",
       "      <td>Diesel</td>\n",
       "      <td>Individual</td>\n",
       "      <td>Manual</td>\n",
       "      <td>Second Owner</td>\n",
       "    </tr>\n",
       "    <tr>\n",
       "      <th>4336</th>\n",
       "      <td>Hyundai i20 Magna 1.4 CRDi</td>\n",
       "      <td>2014</td>\n",
       "      <td>409999</td>\n",
       "      <td>80000</td>\n",
       "      <td>Diesel</td>\n",
       "      <td>Individual</td>\n",
       "      <td>Manual</td>\n",
       "      <td>Second Owner</td>\n",
       "    </tr>\n",
       "    <tr>\n",
       "      <th>4337</th>\n",
       "      <td>Maruti 800 AC BSIII</td>\n",
       "      <td>2009</td>\n",
       "      <td>110000</td>\n",
       "      <td>83000</td>\n",
       "      <td>Petrol</td>\n",
       "      <td>Individual</td>\n",
       "      <td>Manual</td>\n",
       "      <td>Second Owner</td>\n",
       "    </tr>\n",
       "    <tr>\n",
       "      <th>4338</th>\n",
       "      <td>Hyundai Creta 1.6 CRDi SX Option</td>\n",
       "      <td>2016</td>\n",
       "      <td>865000</td>\n",
       "      <td>90000</td>\n",
       "      <td>Diesel</td>\n",
       "      <td>Individual</td>\n",
       "      <td>Manual</td>\n",
       "      <td>First Owner</td>\n",
       "    </tr>\n",
       "    <tr>\n",
       "      <th>4339</th>\n",
       "      <td>Renault KWID RXT</td>\n",
       "      <td>2016</td>\n",
       "      <td>225000</td>\n",
       "      <td>40000</td>\n",
       "      <td>Petrol</td>\n",
       "      <td>Individual</td>\n",
       "      <td>Manual</td>\n",
       "      <td>First Owner</td>\n",
       "    </tr>\n",
       "  </tbody>\n",
       "</table>\n",
       "</div>"
      ],
      "text/plain": [
       "                                     name  year  selling_price  km_driven  \\\n",
       "4335  Hyundai i20 Magna 1.4 CRDi (Diesel)  2014         409999      80000   \n",
       "4336           Hyundai i20 Magna 1.4 CRDi  2014         409999      80000   \n",
       "4337                  Maruti 800 AC BSIII  2009         110000      83000   \n",
       "4338     Hyundai Creta 1.6 CRDi SX Option  2016         865000      90000   \n",
       "4339                     Renault KWID RXT  2016         225000      40000   \n",
       "\n",
       "        fuel seller_type transmission         owner  \n",
       "4335  Diesel  Individual       Manual  Second Owner  \n",
       "4336  Diesel  Individual       Manual  Second Owner  \n",
       "4337  Petrol  Individual       Manual  Second Owner  \n",
       "4338  Diesel  Individual       Manual   First Owner  \n",
       "4339  Petrol  Individual       Manual   First Owner  "
      ]
     },
     "execution_count": 2,
     "metadata": {},
     "output_type": "execute_result"
    }
   ],
   "source": [
    "car_data.tail()"
   ]
  },
  {
   "cell_type": "code",
   "execution_count": 3,
   "id": "a9987c50",
   "metadata": {},
   "outputs": [
    {
     "name": "stdout",
     "output_type": "stream",
     "text": [
      "<class 'pandas.core.frame.DataFrame'>\n",
      "RangeIndex: 4340 entries, 0 to 4339\n",
      "Data columns (total 8 columns):\n",
      " #   Column         Non-Null Count  Dtype \n",
      "---  ------         --------------  ----- \n",
      " 0   name           4340 non-null   object\n",
      " 1   year           4340 non-null   int64 \n",
      " 2   selling_price  4340 non-null   int64 \n",
      " 3   km_driven      4340 non-null   int64 \n",
      " 4   fuel           4340 non-null   object\n",
      " 5   seller_type    4340 non-null   object\n",
      " 6   transmission   4340 non-null   object\n",
      " 7   owner          4340 non-null   object\n",
      "dtypes: int64(3), object(5)\n",
      "memory usage: 271.4+ KB\n"
     ]
    }
   ],
   "source": [
    "car_data.info()"
   ]
  },
  {
   "cell_type": "code",
   "execution_count": 4,
   "id": "3d009566",
   "metadata": {},
   "outputs": [],
   "source": [
    "car_data=car_data.drop_duplicates()"
   ]
  },
  {
   "cell_type": "code",
   "execution_count": 5,
   "id": "f079704a",
   "metadata": {},
   "outputs": [
    {
     "name": "stdout",
     "output_type": "stream",
     "text": [
      "[1992 1995 1996 1997 1998 1999 2000 2001 2002 2003 2004 2005 2006 2007\n",
      " 2008 2009 2010 2011 2012 2013 2014 2015 2016 2017 2018 2019 2020]\n",
      "['CNG' 'Diesel' 'Electric' 'LPG' 'Petrol']\n",
      "['Dealer' 'Individual' 'Trustmark Dealer']\n",
      "['Automatic' 'Manual']\n",
      "['First Owner' 'Fourth & Above Owner' 'Second Owner' 'Test Drive Car'\n",
      " 'Third Owner']\n"
     ]
    }
   ],
   "source": [
    "import numpy as np\n",
    "print (car_data['year'].sort_values().unique())\n",
    "print (car_data['fuel'].sort_values().unique())\n",
    "print (car_data['seller_type'].sort_values().unique())\n",
    "print (car_data['transmission'].sort_values().unique())\n",
    "print (car_data['owner'].sort_values().unique())\n"
   ]
  },
  {
   "cell_type": "code",
   "execution_count": 6,
   "id": "02945e0d",
   "metadata": {
    "scrolled": true
   },
   "outputs": [
    {
     "name": "stdout",
     "output_type": "stream",
     "text": [
      "['Ambassador' 'Audi' 'BMW' 'Chevrolet' 'Daewoo' 'Datsun' 'Fiat' 'Force'\n",
      " 'Ford' 'Honda' 'Hyundai' 'Isuzu' 'Jaguar' 'Jeep' 'Kia' 'Land' 'MG'\n",
      " 'Mahindra' 'Maruti' 'Mercedes-Benz' 'Mitsubishi' 'Nissan' 'OpelCorsa'\n",
      " 'Renault' 'Skoda' 'Tata' 'Toyota' 'Volkswagen' 'Volvo']\n"
     ]
    }
   ],
   "source": [
    "car_data['company_name']=car_data['name'].str.split(' ').str[0]\n",
    "print (car_data['company_name'].sort_values().unique())"
   ]
  },
  {
   "cell_type": "markdown",
   "id": "994968e0",
   "metadata": {},
   "source": [
    "Creating Price backet \n",
    "\n",
    "0-100000       : CHEAP\n",
    "100000-500000  : AFFORDABLE\n",
    "500000-1500000 : LUXURY\n",
    "1500000+       : PRIMIUM\n"
   ]
  },
  {
   "cell_type": "code",
   "execution_count": 7,
   "id": "154293c7",
   "metadata": {},
   "outputs": [
    {
     "name": "stdout",
     "output_type": "stream",
     "text": [
      "['AFFORDABLE' 'CHEAP' 'LUXURY' 'PRIMIUM']\n"
     ]
    }
   ],
   "source": [
    "price_bins = [0 , 100000 , 500000 , 1500000]\n",
    "price_category = ['CHEAP' , 'AFFORDABLE','LUXURY', 'PRIMIUM']\n",
    "\n",
    "d = dict(enumerate(price_category, 1))\n",
    "car_data['PriceRange'] = np.vectorize(d.get)(np.digitize(car_data['selling_price'], price_bins))\n",
    "print (car_data['PriceRange'].sort_values().unique())\n",
    "pridication_key=car_data['PriceRange'].sort_values().unique()"
   ]
  },
  {
   "cell_type": "markdown",
   "id": "363deb5d",
   "metadata": {},
   "source": [
    "Creating Km Driven backet \n",
    "\n",
    "0-10000      : Less Driven 0-10k\n",
    "10000-50000  : Normal Driven 10k-50k\n",
    "50000-100000 : More Driven 50k-100k\n",
    "100000+      : Most Driven 100k+"
   ]
  },
  {
   "cell_type": "code",
   "execution_count": 8,
   "id": "c0136509",
   "metadata": {},
   "outputs": [
    {
     "name": "stdout",
     "output_type": "stream",
     "text": [
      "['Less Driven 0-10k' 'More Driven 50k-100k' 'Most Driven 100k+'\n",
      " 'Normal Driven 10k-50k']\n"
     ]
    }
   ],
   "source": [
    "km_bins = [0 , 10000 , 50000 , 100000]\n",
    "km_category = ['Less Driven 0-10k' , 'Normal Driven 10k-50k','More Driven 50k-100k', 'Most Driven 100k+']\n",
    "\n",
    "d = dict(enumerate(km_category, 1))\n",
    "car_data['kmRange'] = np.vectorize(d.get)(np.digitize(car_data['km_driven'], km_bins))\n",
    "print (car_data['kmRange'].sort_values().unique())\n"
   ]
  },
  {
   "cell_type": "code",
   "execution_count": 9,
   "id": "045cc37e",
   "metadata": {
    "scrolled": false
   },
   "outputs": [
    {
     "data": {
      "text/html": [
       "<div>\n",
       "<style scoped>\n",
       "    .dataframe tbody tr th:only-of-type {\n",
       "        vertical-align: middle;\n",
       "    }\n",
       "\n",
       "    .dataframe tbody tr th {\n",
       "        vertical-align: top;\n",
       "    }\n",
       "\n",
       "    .dataframe thead th {\n",
       "        text-align: right;\n",
       "    }\n",
       "</style>\n",
       "<table border=\"1\" class=\"dataframe\">\n",
       "  <thead>\n",
       "    <tr style=\"text-align: right;\">\n",
       "      <th></th>\n",
       "      <th>name</th>\n",
       "      <th>year</th>\n",
       "      <th>selling_price</th>\n",
       "      <th>km_driven</th>\n",
       "      <th>fuel</th>\n",
       "      <th>seller_type</th>\n",
       "      <th>transmission</th>\n",
       "      <th>owner</th>\n",
       "      <th>company_name</th>\n",
       "      <th>PriceRange</th>\n",
       "      <th>kmRange</th>\n",
       "    </tr>\n",
       "  </thead>\n",
       "  <tbody>\n",
       "    <tr>\n",
       "      <th>0</th>\n",
       "      <td>Maruti 800 AC</td>\n",
       "      <td>2007</td>\n",
       "      <td>60000</td>\n",
       "      <td>70000</td>\n",
       "      <td>Petrol</td>\n",
       "      <td>Individual</td>\n",
       "      <td>Manual</td>\n",
       "      <td>First Owner</td>\n",
       "      <td>Maruti</td>\n",
       "      <td>CHEAP</td>\n",
       "      <td>More Driven 50k-100k</td>\n",
       "    </tr>\n",
       "    <tr>\n",
       "      <th>1</th>\n",
       "      <td>Maruti Wagon R LXI Minor</td>\n",
       "      <td>2007</td>\n",
       "      <td>135000</td>\n",
       "      <td>50000</td>\n",
       "      <td>Petrol</td>\n",
       "      <td>Individual</td>\n",
       "      <td>Manual</td>\n",
       "      <td>First Owner</td>\n",
       "      <td>Maruti</td>\n",
       "      <td>AFFORDABLE</td>\n",
       "      <td>More Driven 50k-100k</td>\n",
       "    </tr>\n",
       "    <tr>\n",
       "      <th>2</th>\n",
       "      <td>Hyundai Verna 1.6 SX</td>\n",
       "      <td>2012</td>\n",
       "      <td>600000</td>\n",
       "      <td>100000</td>\n",
       "      <td>Diesel</td>\n",
       "      <td>Individual</td>\n",
       "      <td>Manual</td>\n",
       "      <td>First Owner</td>\n",
       "      <td>Hyundai</td>\n",
       "      <td>LUXURY</td>\n",
       "      <td>Most Driven 100k+</td>\n",
       "    </tr>\n",
       "    <tr>\n",
       "      <th>3</th>\n",
       "      <td>Datsun RediGO T Option</td>\n",
       "      <td>2017</td>\n",
       "      <td>250000</td>\n",
       "      <td>46000</td>\n",
       "      <td>Petrol</td>\n",
       "      <td>Individual</td>\n",
       "      <td>Manual</td>\n",
       "      <td>First Owner</td>\n",
       "      <td>Datsun</td>\n",
       "      <td>AFFORDABLE</td>\n",
       "      <td>Normal Driven 10k-50k</td>\n",
       "    </tr>\n",
       "    <tr>\n",
       "      <th>4</th>\n",
       "      <td>Honda Amaze VX i-DTEC</td>\n",
       "      <td>2014</td>\n",
       "      <td>450000</td>\n",
       "      <td>141000</td>\n",
       "      <td>Diesel</td>\n",
       "      <td>Individual</td>\n",
       "      <td>Manual</td>\n",
       "      <td>Second Owner</td>\n",
       "      <td>Honda</td>\n",
       "      <td>AFFORDABLE</td>\n",
       "      <td>Most Driven 100k+</td>\n",
       "    </tr>\n",
       "  </tbody>\n",
       "</table>\n",
       "</div>"
      ],
      "text/plain": [
       "                       name  year  selling_price  km_driven    fuel  \\\n",
       "0             Maruti 800 AC  2007          60000      70000  Petrol   \n",
       "1  Maruti Wagon R LXI Minor  2007         135000      50000  Petrol   \n",
       "2      Hyundai Verna 1.6 SX  2012         600000     100000  Diesel   \n",
       "3    Datsun RediGO T Option  2017         250000      46000  Petrol   \n",
       "4     Honda Amaze VX i-DTEC  2014         450000     141000  Diesel   \n",
       "\n",
       "  seller_type transmission         owner company_name  PriceRange  \\\n",
       "0  Individual       Manual   First Owner       Maruti       CHEAP   \n",
       "1  Individual       Manual   First Owner       Maruti  AFFORDABLE   \n",
       "2  Individual       Manual   First Owner      Hyundai      LUXURY   \n",
       "3  Individual       Manual   First Owner       Datsun  AFFORDABLE   \n",
       "4  Individual       Manual  Second Owner        Honda  AFFORDABLE   \n",
       "\n",
       "                 kmRange  \n",
       "0   More Driven 50k-100k  \n",
       "1   More Driven 50k-100k  \n",
       "2      Most Driven 100k+  \n",
       "3  Normal Driven 10k-50k  \n",
       "4      Most Driven 100k+  "
      ]
     },
     "execution_count": 9,
     "metadata": {},
     "output_type": "execute_result"
    }
   ],
   "source": [
    "car_data.head()"
   ]
  },
  {
   "cell_type": "code",
   "execution_count": 10,
   "id": "cd07b9aa",
   "metadata": {},
   "outputs": [],
   "source": [
    "# Create the Process Data for visualization in Tableau\n",
    "car_data.to_csv('procced_dataser.csv', index=False)"
   ]
  },
  {
   "cell_type": "code",
   "execution_count": 11,
   "id": "27740e86",
   "metadata": {
    "scrolled": true
   },
   "outputs": [],
   "source": [
    "#removing the car brand having very low Frequncy \n",
    "# Company Name\tPrice Range\tNumber of Records\n",
    "# Isuzu\tPRIMIUM\t1\n",
    "# MG\tPRIMIUM\t2\n",
    "# Jeep\tPRIMIUM\t1\n",
    "# Volvo\tPRIMIUM\t4\n",
    "# Land\tPRIMIUM\t5\n",
    "# Jaguar\tPRIMIUM\t6\n",
    "# Kia\tLUXURY\t1\n",
    "# Jeep\tLUXURY\t2\n",
    "# Mitsubishi\tLUXURY\t6\n",
    "# Daewoo\tCHEAP\t1\n",
    "# OpelCorsa\tCHEAP\t1\n",
    "# Ambassador\tCHEAP\t1\n",
    "# Force\tAFFORTABLE\t1\n",
    "# OpelCorsa\tAFFORTABLE\t1\n",
    "# Ambassador\tAFFORTABLE\t3\n",
    "\n",
    "v = car_data.company_name.value_counts()\n",
    "car_data=car_data[car_data.company_name.isin(v.index[v.gt(10)])]"
   ]
  },
  {
   "cell_type": "code",
   "execution_count": 12,
   "id": "dc9f98f0",
   "metadata": {
    "scrolled": false
   },
   "outputs": [
    {
     "data": {
      "text/plain": [
       "Maruti           1072\n",
       "Hyundai           637\n",
       "Mahindra          328\n",
       "Tata              308\n",
       "Ford              220\n",
       "Honda             216\n",
       "Toyota            170\n",
       "Chevrolet         151\n",
       "Renault           110\n",
       "Volkswagen         93\n",
       "Nissan             52\n",
       "Skoda              49\n",
       "Fiat               32\n",
       "Audi               31\n",
       "Datsun             29\n",
       "BMW                25\n",
       "Mercedes-Benz      21\n",
       "Name: company_name, dtype: int64"
      ]
     },
     "execution_count": 12,
     "metadata": {},
     "output_type": "execute_result"
    }
   ],
   "source": [
    "car_data.company_name.value_counts()"
   ]
  },
  {
   "cell_type": "markdown",
   "id": "282436b9",
   "metadata": {},
   "source": [
    "# Model Preparation"
   ]
  },
  {
   "cell_type": "code",
   "execution_count": 13,
   "id": "6942e263",
   "metadata": {},
   "outputs": [],
   "source": [
    "import pandas as pd\n",
    "from sklearn.preprocessing import LabelEncoder\n",
    "from sklearn.linear_model import LinearRegression\n",
    "from sklearn.metrics import r2_score\n",
    "from sklearn.preprocessing import PolynomialFeatures\n",
    "from sklearn.ensemble import RandomForestClassifier\n",
    "from sklearn.metrics import accuracy_score, confusion_matrix, classification_report\n",
    "import sys \n",
    "import warnings"
   ]
  },
  {
   "cell_type": "code",
   "execution_count": 14,
   "id": "4ffb42f7",
   "metadata": {},
   "outputs": [],
   "source": [
    "poly= PolynomialFeatures(degree=2)\n",
    "\n",
    "reg=RandomForestClassifier()\n",
    "\n",
    "le =LabelEncoder()\n",
    "\n",
    "# Predication Attributes in which price range car would be sale out\n",
    "temp_company_name =  'Honda'\n",
    "temp_km_driven_cat =  'Normal Driven 10k-50k'\n",
    "temp_fuel =  'Petrol'\n",
    "temp_seller_type =  'Individual'\n",
    "temp_transmission =  'Manual'\n",
    "temp_owner = 'First Owner'"
   ]
  },
  {
   "cell_type": "raw",
   "id": "be364c93",
   "metadata": {},
   "source": [
    "['CNG' 'Diesel' 'Electric' 'LPG' 'Petrol']\n",
    "['Dealer' 'Individual' 'Trustmark Dealer']\n",
    "['Automatic' 'Manual']\n",
    "['First Owner' 'Fourth & Above Owner' 'Second Owner' 'Test Drive Car'\n",
    " 'Third Owner']\n",
    "\n",
    "['Ambassador' 'Audi' 'BMW' 'Chevrolet' 'Daewoo' 'Datsun' 'Fiat' 'Force'\n",
    " 'Ford' 'Honda' 'Hyundai' 'Isuzu' 'Jaguar' 'Jeep' 'Kia' 'Land' 'MG'\n",
    " 'Mahindra' 'Maruti' 'Mercedes-Benz' 'Mitsubishi' 'Nissan' 'OpelCorsa'\n",
    " 'Renault' 'Skoda' 'Tata' 'Toyota' 'Volkswagen' 'Volvo']\n",
    "\n",
    "['Less Driven 0-10k' 'More Driven 50k-100k' 'Most Driven 100k+'\n",
    " 'Normal Driven 10k-50k']\n",
    "['AFFORDABLE' 'CHEAP' 'LUXURY' 'PRIMIUM']"
   ]
  },
  {
   "cell_type": "code",
   "execution_count": 15,
   "id": "68180b76",
   "metadata": {},
   "outputs": [],
   "source": [
    "# Lable encodeing of Trainning data set and Predication Data Set\n",
    "temp_encoded_company_name=le.fit(list(car_data['company_name']))\n",
    "company_name=le.transform(car_data['company_name'])\n",
    "temp_company_name = le.transform([temp_company_name])\n",
    "\n",
    "temp_encoded_kmRange=le.fit(list(car_data['kmRange']))\n",
    "km_driven=le.transform(car_data['kmRange'])\n",
    "temp_km_driven = le.transform([temp_km_driven_cat])\n",
    "\n",
    "temp_encoded_fuel=le.fit(list(car_data['fuel']))\n",
    "fuel=le.transform(car_data['fuel'])\n",
    "temp_fuel = le.transform([temp_fuel])\n",
    "\n",
    "temp_encoded_seller_type=le.fit(list(car_data['seller_type']))\n",
    "seller_type=le.transform(car_data['seller_type'])\n",
    "temp_seller_type = le.transform([temp_seller_type])\n",
    "\n",
    "temp_encoded_transmission=le.fit(list(car_data['transmission']))\n",
    "transmission=le.transform(car_data['transmission'])\n",
    "temp_transmission = le.transform([temp_transmission])\n",
    "\n",
    "temp_encoded_owner=le.fit(list(car_data['owner']))\n",
    "owner=le.transform(car_data['owner'])\n",
    "temp_owner = le.transform([temp_owner])"
   ]
  },
  {
   "cell_type": "code",
   "execution_count": 16,
   "id": "ad109a3d",
   "metadata": {},
   "outputs": [
    {
     "data": {
      "text/plain": [
       "array([0])"
      ]
     },
     "execution_count": 16,
     "metadata": {},
     "output_type": "execute_result"
    }
   ],
   "source": [
    "temp_owner"
   ]
  },
  {
   "cell_type": "code",
   "execution_count": 17,
   "id": "45096d64",
   "metadata": {},
   "outputs": [],
   "source": [
    "#df1 is set of Independent Variables Dataframe  \n",
    "df1= pd.DataFrame()\n",
    "df1['company_name']=company_name\n",
    "df1['km_driven']=km_driven\n",
    "df1['fuel']=fuel\n",
    "df1['seller_type']=seller_type\n",
    "df1['transmission']=transmission\n",
    "df1['owner']=owner"
   ]
  },
  {
   "cell_type": "code",
   "execution_count": 18,
   "id": "27290b98",
   "metadata": {},
   "outputs": [],
   "source": [
    "# selling_price Continuous Target Variable \n",
    "selling_price=[]\n",
    "temp=list(car_data['selling_price'])\n",
    "for i in temp:\n",
    "    if i=='selling_price':\n",
    "        continue\n",
    "    selling_price.append(float(i))\n",
    "    "
   ]
  },
  {
   "cell_type": "code",
   "execution_count": 19,
   "id": "d0693b1d",
   "metadata": {},
   "outputs": [],
   "source": [
    "# price_range Categorical Target Variable \n",
    "le.fit(list(car_data['PriceRange']))\n",
    "price_range=le.transform(car_data['PriceRange'])"
   ]
  },
  {
   "cell_type": "code",
   "execution_count": 20,
   "id": "4ce56c08",
   "metadata": {
    "scrolled": true
   },
   "outputs": [
    {
     "data": {
      "text/html": [
       "<div>\n",
       "<style scoped>\n",
       "    .dataframe tbody tr th:only-of-type {\n",
       "        vertical-align: middle;\n",
       "    }\n",
       "\n",
       "    .dataframe tbody tr th {\n",
       "        vertical-align: top;\n",
       "    }\n",
       "\n",
       "    .dataframe thead th {\n",
       "        text-align: right;\n",
       "    }\n",
       "</style>\n",
       "<table border=\"1\" class=\"dataframe\">\n",
       "  <thead>\n",
       "    <tr style=\"text-align: right;\">\n",
       "      <th></th>\n",
       "      <th>company_name</th>\n",
       "      <th>km_driven</th>\n",
       "      <th>fuel</th>\n",
       "      <th>seller_type</th>\n",
       "      <th>transmission</th>\n",
       "      <th>owner</th>\n",
       "    </tr>\n",
       "  </thead>\n",
       "  <tbody>\n",
       "    <tr>\n",
       "      <th>0</th>\n",
       "      <td>6</td>\n",
       "      <td>3</td>\n",
       "      <td>4</td>\n",
       "      <td>1</td>\n",
       "      <td>1</td>\n",
       "      <td>0</td>\n",
       "    </tr>\n",
       "  </tbody>\n",
       "</table>\n",
       "</div>"
      ],
      "text/plain": [
       "   company_name  km_driven  fuel  seller_type  transmission  owner\n",
       "0             6          3     4            1             1      0"
      ]
     },
     "execution_count": 20,
     "metadata": {},
     "output_type": "execute_result"
    }
   ],
   "source": [
    "# df2 set of Prediction Variable\n",
    "df2= pd.DataFrame()\n",
    "\n",
    "df2['company_name'] = temp_company_name\n",
    "df2['km_driven'] = temp_km_driven\n",
    "df2['fuel'] = temp_fuel\n",
    "df2['seller_type'] = temp_seller_type\n",
    "df2['transmission'] = temp_transmission\n",
    "df2['owner'] = temp_owner\n",
    "\n",
    "df2.head()\n",
    "\n"
   ]
  },
  {
   "cell_type": "markdown",
   "id": "92399aad",
   "metadata": {},
   "source": [
    "# RandomForestClassifier"
   ]
  },
  {
   "cell_type": "code",
   "execution_count": 21,
   "id": "0b2ace5a",
   "metadata": {},
   "outputs": [
    {
     "name": "stdout",
     "output_type": "stream",
     "text": [
      "[600000.]\n"
     ]
    }
   ],
   "source": [
    "reg.fit(df1,selling_price)\n",
    "pred=reg.predict(df2)\n",
    "\n",
    "print(pred)"
   ]
  },
  {
   "cell_type": "code",
   "execution_count": 22,
   "id": "54f89d8e",
   "metadata": {
    "scrolled": true
   },
   "outputs": [
    {
     "name": "stdout",
     "output_type": "stream",
     "text": [
      "[2]\n"
     ]
    }
   ],
   "source": [
    "# reg.fit(df1,selling_price)\n",
    "reg.fit(df1,price_range)\n",
    "\n",
    "pred=reg.predict(df2)\n",
    "\n",
    "print(pred)"
   ]
  },
  {
   "cell_type": "code",
   "execution_count": 23,
   "id": "e7f6107b",
   "metadata": {},
   "outputs": [],
   "source": [
    "# Import train_test_split function\n",
    "from sklearn.model_selection import train_test_split\n",
    "\n",
    "# Split features and target into train and test sets\n",
    "X_train, X_test, y_train, y_test = train_test_split(df1, price_range, random_state=1, stratify=price_range)"
   ]
  },
  {
   "cell_type": "code",
   "execution_count": 24,
   "id": "9d9358f2",
   "metadata": {},
   "outputs": [],
   "source": [
    "from sklearn.ensemble import RandomForestClassifier\n",
    "from sklearn.metrics import accuracy_score, confusion_matrix, classification_report\n",
    "\n",
    "# Instantiate and fit the RandomForestClassifier\n",
    "forest = RandomForestClassifier()\n",
    "forest.fit(X_train, y_train)\n",
    "# Make predictions for the test set\n",
    "y_pred_test = forest.predict(X_test)"
   ]
  },
  {
   "cell_type": "code",
   "execution_count": 25,
   "id": "e2ffa81c",
   "metadata": {},
   "outputs": [
    {
     "data": {
      "text/plain": [
       "0.708803611738149"
      ]
     },
     "execution_count": 25,
     "metadata": {},
     "output_type": "execute_result"
    }
   ],
   "source": [
    "# View accuracy score\n",
    "accuracy_score(y_test, y_pred_test)"
   ]
  },
  {
   "cell_type": "markdown",
   "id": "3e1e1621",
   "metadata": {},
   "source": [
    "# Gaussian Classifier"
   ]
  },
  {
   "cell_type": "code",
   "execution_count": 26,
   "id": "64f2a63d",
   "metadata": {},
   "outputs": [
    {
     "name": "stdout",
     "output_type": "stream",
     "text": [
      "Predicted Value: ['AFFORDABLE']\n"
     ]
    }
   ],
   "source": [
    "from sklearn.naive_bayes import GaussianNB\n",
    "\n",
    "#Create a Gaussian Classifier\n",
    "model = GaussianNB()\n",
    "\n",
    "# Train the model using the training sets\n",
    "model.fit(df1,price_range)\n",
    "\n",
    "#Predict Output\n",
    "predicted= model.predict(df2)\n",
    "print (\"Predicted Value:\", pridication_key[predicted])"
   ]
  },
  {
   "cell_type": "code",
   "execution_count": 27,
   "id": "c25f63a0",
   "metadata": {},
   "outputs": [],
   "source": [
    "# Import train_test_split function\n",
    "from sklearn.model_selection import train_test_split\n",
    "\n",
    "# Split dataset into training set and test set\n",
    "X_train, X_test, y_train, y_test = train_test_split(df1, price_range, test_size=0.3,random_state=109) # 70% training and 30% test"
   ]
  },
  {
   "cell_type": "code",
   "execution_count": 28,
   "id": "3f6b7d6a",
   "metadata": {},
   "outputs": [],
   "source": [
    "#Import Gaussian Naive Bayes model\n",
    "from sklearn.naive_bayes import GaussianNB\n",
    "\n",
    "#Create a Gaussian Classifier\n",
    "gnb = GaussianNB()\n",
    "\n",
    "#Train the model using the training sets\n",
    "gnb.fit(X_train, y_train)\n",
    "\n",
    "#Predict the response for test dataset\n",
    "y_pred = gnb.predict(X_test)\n",
    "\n"
   ]
  },
  {
   "cell_type": "code",
   "execution_count": 29,
   "id": "4cf46818",
   "metadata": {
    "scrolled": true
   },
   "outputs": [
    {
     "name": "stdout",
     "output_type": "stream",
     "text": [
      "Accuracy: 0.5347744360902256\n"
     ]
    }
   ],
   "source": [
    "#Import scikit-learn metrics module for accuracy calculation\n",
    "from sklearn import metrics\n",
    "\n",
    "# Model Accuracy, how often is the classifier correct?\n",
    "print(\"Accuracy:\",metrics.accuracy_score(y_test, y_pred))"
   ]
  },
  {
   "cell_type": "markdown",
   "id": "77f51e75",
   "metadata": {},
   "source": [
    "# K Nearest Neighbor (KNN)"
   ]
  },
  {
   "cell_type": "code",
   "execution_count": 30,
   "id": "c905921d",
   "metadata": {},
   "outputs": [],
   "source": [
    "import pandas as pd\n",
    "import numpy as np\n",
    "import matplotlib.pyplot as plt\n",
    "from sklearn.datasets import make_classification\n",
    "from sklearn.model_selection import train_test_split\n",
    "from sklearn.preprocessing import StandardScaler\n",
    "from sklearn.neighbors import KNeighborsClassifier \n",
    "from sklearn import metrics"
   ]
  },
  {
   "cell_type": "code",
   "execution_count": 31,
   "id": "54a06658",
   "metadata": {},
   "outputs": [
    {
     "data": {
      "text/plain": [
       "(3544, 6)"
      ]
     },
     "execution_count": 31,
     "metadata": {},
     "output_type": "execute_result"
    }
   ],
   "source": [
    "# X,Y=make_classification(n_samples= 200,n_features=8,n_informative=8,n_redundant=0,n_repeated=0,n_classes=2,random_state=14)\n",
    "X_train, X_test, y_train, y_test= train_test_split(df1, price_range, test_size= 0.2,random_state=32)\n",
    "sc= StandardScaler()\n",
    "sc.fit(X_train)\n",
    "X_train= sc.transform(X_train)\n",
    "sc.fit(X_test)\n",
    "X_test= sc.transform(X_test)\n",
    "df1.shape"
   ]
  },
  {
   "cell_type": "code",
   "execution_count": 32,
   "id": "a989e1c3",
   "metadata": {},
   "outputs": [
    {
     "data": {
      "text/plain": [
       "<matplotlib.legend.Legend at 0x7fe82bfd4a00>"
      ]
     },
     "execution_count": 32,
     "metadata": {},
     "output_type": "execute_result"
    },
    {
     "data": {
      "image/png": "[encoded data removed]",
      "text/plain": [
       "<Figure size 432x288 with 1 Axes>"
      ]
     },
     "metadata": {
      "needs_background": "light"
     },
     "output_type": "display_data"
    }
   ],
   "source": [
    "error1= []\n",
    "error2= []\n",
    "for k in range(1,4):\n",
    "    knn= KNeighborsClassifier(n_neighbors=k)\n",
    "    knn.fit(X_train,y_train)\n",
    "    y_pred1= knn.predict(X_train)\n",
    "    error1.append(np.mean(y_train!= y_pred1))\n",
    "    y_pred2= knn.predict(X_test)\n",
    "    error2.append(np.mean(y_test!= y_pred2))\n",
    "plt.plot(range(1,4),error1,label=\"train\")\n",
    "plt.plot(range(1,4),error2,label=\"test\")\n",
    "plt.xlabel('k Value')\n",
    "plt.ylabel('Error')\n",
    "plt.legend()"
   ]
  },
  {
   "cell_type": "code",
   "execution_count": 33,
   "id": "95fff759",
   "metadata": {},
   "outputs": [
    {
     "data": {
      "text/plain": [
       "0.692524682651622"
      ]
     },
     "execution_count": 33,
     "metadata": {},
     "output_type": "execute_result"
    }
   ],
   "source": [
    "knn= KNeighborsClassifier(n_neighbors=7)\n",
    "knn.fit(X_train,y_train)\n",
    "y_pred= knn.predict(X_test)\n",
    "metrics.accuracy_score(y_test,y_pred)"
   ]
  },
  {
   "cell_type": "markdown",
   "id": "785729bd",
   "metadata": {},
   "source": [
    "# Multiple Linear Regression"
   ]
  },
  {
   "cell_type": "raw",
   "id": "02b7e4cf",
   "metadata": {},
   "source": [
    "# Continuous Value\n",
    "   Km_driven as Continuous Value attribute"
   ]
  },
  {
   "cell_type": "code",
   "execution_count": 34,
   "id": "a336ed7d",
   "metadata": {},
   "outputs": [],
   "source": [
    "# importing libraries  \n",
    "import numpy as nm  \n",
    "import matplotlib.pyplot as mtp  \n",
    "import pandas as pd  "
   ]
  },
  {
   "cell_type": "code",
   "execution_count": 35,
   "id": "3b499cf7",
   "metadata": {},
   "outputs": [
    {
     "data": {
      "text/html": [
       "<div>\n",
       "<style scoped>\n",
       "    .dataframe tbody tr th:only-of-type {\n",
       "        vertical-align: middle;\n",
       "    }\n",
       "\n",
       "    .dataframe tbody tr th {\n",
       "        vertical-align: top;\n",
       "    }\n",
       "\n",
       "    .dataframe thead th {\n",
       "        text-align: right;\n",
       "    }\n",
       "</style>\n",
       "<table border=\"1\" class=\"dataframe\">\n",
       "  <thead>\n",
       "    <tr style=\"text-align: right;\">\n",
       "      <th></th>\n",
       "      <th>company_name</th>\n",
       "      <th>km_driven</th>\n",
       "      <th>fuel</th>\n",
       "      <th>seller_type</th>\n",
       "      <th>transmission</th>\n",
       "      <th>owner</th>\n",
       "    </tr>\n",
       "  </thead>\n",
       "  <tbody>\n",
       "    <tr>\n",
       "      <th>0</th>\n",
       "      <td>9</td>\n",
       "      <td>70000.0</td>\n",
       "      <td>4</td>\n",
       "      <td>1</td>\n",
       "      <td>1</td>\n",
       "      <td>0</td>\n",
       "    </tr>\n",
       "    <tr>\n",
       "      <th>1</th>\n",
       "      <td>9</td>\n",
       "      <td>50000.0</td>\n",
       "      <td>4</td>\n",
       "      <td>1</td>\n",
       "      <td>1</td>\n",
       "      <td>0</td>\n",
       "    </tr>\n",
       "    <tr>\n",
       "      <th>2</th>\n",
       "      <td>7</td>\n",
       "      <td>100000.0</td>\n",
       "      <td>1</td>\n",
       "      <td>1</td>\n",
       "      <td>1</td>\n",
       "      <td>0</td>\n",
       "    </tr>\n",
       "    <tr>\n",
       "      <th>3</th>\n",
       "      <td>3</td>\n",
       "      <td>46000.0</td>\n",
       "      <td>4</td>\n",
       "      <td>1</td>\n",
       "      <td>1</td>\n",
       "      <td>0</td>\n",
       "    </tr>\n",
       "    <tr>\n",
       "      <th>4</th>\n",
       "      <td>6</td>\n",
       "      <td>141000.0</td>\n",
       "      <td>1</td>\n",
       "      <td>1</td>\n",
       "      <td>1</td>\n",
       "      <td>2</td>\n",
       "    </tr>\n",
       "  </tbody>\n",
       "</table>\n",
       "</div>"
      ],
      "text/plain": [
       "   company_name  km_driven  fuel  seller_type  transmission  owner\n",
       "0             9    70000.0     4            1             1      0\n",
       "1             9    50000.0     4            1             1      0\n",
       "2             7   100000.0     1            1             1      0\n",
       "3             3    46000.0     4            1             1      0\n",
       "4             6   141000.0     1            1             1      2"
      ]
     },
     "execution_count": 35,
     "metadata": {},
     "output_type": "execute_result"
    }
   ],
   "source": [
    "df_lg= pd.DataFrame()\n",
    "df_lg['company_name']=company_name\n",
    "df_lg['km_driven']=car_data['km_driven']\n",
    "df_lg['fuel']=fuel\n",
    "df_lg['seller_type']=seller_type\n",
    "df_lg['transmission']=transmission\n",
    "df_lg['owner']=owner\n",
    "\n",
    "df_lg.head()"
   ]
  },
  {
   "cell_type": "code",
   "execution_count": 36,
   "id": "f4d18753",
   "metadata": {
    "scrolled": true
   },
   "outputs": [
    {
     "name": "stdout",
     "output_type": "stream",
     "text": [
      "<class 'pandas.core.frame.DataFrame'>\n",
      "RangeIndex: 3544 entries, 0 to 3543\n",
      "Data columns (total 6 columns):\n",
      " #   Column        Non-Null Count  Dtype  \n",
      "---  ------        --------------  -----  \n",
      " 0   company_name  3544 non-null   int64  \n",
      " 1   km_driven     3544 non-null   float64\n",
      " 2   fuel          3544 non-null   int64  \n",
      " 3   seller_type   3544 non-null   int64  \n",
      " 4   transmission  3544 non-null   int64  \n",
      " 5   owner         3544 non-null   int64  \n",
      "dtypes: float64(1), int64(5)\n",
      "memory usage: 166.2 KB\n"
     ]
    }
   ],
   "source": [
    "df_lg.isnull().any()\n",
    "df_lg['km_driven'] = df_lg['km_driven'].fillna(0)\n",
    "df_lg.info()\n"
   ]
  },
  {
   "cell_type": "code",
   "execution_count": 37,
   "id": "c8c0b2db",
   "metadata": {},
   "outputs": [
    {
     "data": {
      "text/html": [
       "<div>\n",
       "<style scoped>\n",
       "    .dataframe tbody tr th:only-of-type {\n",
       "        vertical-align: middle;\n",
       "    }\n",
       "\n",
       "    .dataframe tbody tr th {\n",
       "        vertical-align: top;\n",
       "    }\n",
       "\n",
       "    .dataframe thead th {\n",
       "        text-align: right;\n",
       "    }\n",
       "</style>\n",
       "<table border=\"1\" class=\"dataframe\">\n",
       "  <thead>\n",
       "    <tr style=\"text-align: right;\">\n",
       "      <th></th>\n",
       "      <th>company_name</th>\n",
       "      <th>km_driven</th>\n",
       "      <th>fuel</th>\n",
       "      <th>seller_type</th>\n",
       "      <th>transmission</th>\n",
       "      <th>owner</th>\n",
       "    </tr>\n",
       "  </thead>\n",
       "  <tbody>\n",
       "    <tr>\n",
       "      <th>0</th>\n",
       "      <td>9</td>\n",
       "      <td>70000.0</td>\n",
       "      <td>4</td>\n",
       "      <td>1</td>\n",
       "      <td>1</td>\n",
       "      <td>0</td>\n",
       "    </tr>\n",
       "    <tr>\n",
       "      <th>1</th>\n",
       "      <td>9</td>\n",
       "      <td>50000.0</td>\n",
       "      <td>4</td>\n",
       "      <td>1</td>\n",
       "      <td>1</td>\n",
       "      <td>0</td>\n",
       "    </tr>\n",
       "    <tr>\n",
       "      <th>2</th>\n",
       "      <td>7</td>\n",
       "      <td>100000.0</td>\n",
       "      <td>1</td>\n",
       "      <td>1</td>\n",
       "      <td>1</td>\n",
       "      <td>0</td>\n",
       "    </tr>\n",
       "    <tr>\n",
       "      <th>3</th>\n",
       "      <td>3</td>\n",
       "      <td>46000.0</td>\n",
       "      <td>4</td>\n",
       "      <td>1</td>\n",
       "      <td>1</td>\n",
       "      <td>0</td>\n",
       "    </tr>\n",
       "    <tr>\n",
       "      <th>4</th>\n",
       "      <td>6</td>\n",
       "      <td>141000.0</td>\n",
       "      <td>1</td>\n",
       "      <td>1</td>\n",
       "      <td>1</td>\n",
       "      <td>2</td>\n",
       "    </tr>\n",
       "  </tbody>\n",
       "</table>\n",
       "</div>"
      ],
      "text/plain": [
       "   company_name  km_driven  fuel  seller_type  transmission  owner\n",
       "0             9    70000.0     4            1             1      0\n",
       "1             9    50000.0     4            1             1      0\n",
       "2             7   100000.0     1            1             1      0\n",
       "3             3    46000.0     4            1             1      0\n",
       "4             6   141000.0     1            1             1      2"
      ]
     },
     "execution_count": 37,
     "metadata": {},
     "output_type": "execute_result"
    }
   ],
   "source": [
    "df_lg.head()"
   ]
  },
  {
   "cell_type": "code",
   "execution_count": 38,
   "id": "4941a404",
   "metadata": {},
   "outputs": [],
   "source": [
    "# Splitting the dataset into training and test set.  \n",
    "from sklearn.model_selection import train_test_split  \n",
    "x_train, x_test, y_train, y_test= train_test_split(df_lg, selling_price, test_size= 0.2, random_state=0)  "
   ]
  },
  {
   "cell_type": "code",
   "execution_count": 39,
   "id": "ff23945f",
   "metadata": {},
   "outputs": [
    {
     "data": {
      "text/plain": [
       "company_name    False\n",
       "km_driven       False\n",
       "fuel            False\n",
       "seller_type     False\n",
       "transmission    False\n",
       "owner           False\n",
       "dtype: bool"
      ]
     },
     "execution_count": 39,
     "metadata": {},
     "output_type": "execute_result"
    }
   ],
   "source": [
    "x_train.isnull().any()"
   ]
  },
  {
   "cell_type": "code",
   "execution_count": 40,
   "id": "b62d82da",
   "metadata": {},
   "outputs": [
    {
     "data": {
      "text/plain": [
       "LinearRegression()"
      ]
     },
     "execution_count": 40,
     "metadata": {},
     "output_type": "execute_result"
    }
   ],
   "source": [
    "#Fitting the MLR model to the training set:  \n",
    "from sklearn.linear_model import LinearRegression  \n",
    "regressor= LinearRegression()  \n",
    "regressor.fit(x_train, y_train)  "
   ]
  },
  {
   "cell_type": "code",
   "execution_count": 41,
   "id": "d1dee544",
   "metadata": {},
   "outputs": [],
   "source": [
    "#Predicting the Test set result;  \n",
    "y_pred= regressor.predict(x_test)  "
   ]
  },
  {
   "cell_type": "code",
   "execution_count": 42,
   "id": "de39eea4",
   "metadata": {},
   "outputs": [
    {
     "name": "stdout",
     "output_type": "stream",
     "text": [
      "Train Score:  0.3296605135595685\n",
      "Test Score:  0.31159363906198534\n"
     ]
    }
   ],
   "source": [
    "print('Train Score: ', regressor.score(x_train, y_train))  \n",
    "print('Test Score: ', regressor.score(x_test, y_test))  "
   ]
  },
  {
   "cell_type": "markdown",
   "id": "c0051eb5",
   "metadata": {},
   "source": [
    "# Categorial Values/ Attribute"
   ]
  },
  {
   "cell_type": "code",
   "execution_count": 43,
   "id": "6dff63b2",
   "metadata": {},
   "outputs": [
    {
     "data": {
      "text/html": [
       "<div>\n",
       "<style scoped>\n",
       "    .dataframe tbody tr th:only-of-type {\n",
       "        vertical-align: middle;\n",
       "    }\n",
       "\n",
       "    .dataframe tbody tr th {\n",
       "        vertical-align: top;\n",
       "    }\n",
       "\n",
       "    .dataframe thead th {\n",
       "        text-align: right;\n",
       "    }\n",
       "</style>\n",
       "<table border=\"1\" class=\"dataframe\">\n",
       "  <thead>\n",
       "    <tr style=\"text-align: right;\">\n",
       "      <th></th>\n",
       "      <th>company_name</th>\n",
       "      <th>km_driven</th>\n",
       "      <th>fuel</th>\n",
       "      <th>seller_type</th>\n",
       "      <th>transmission</th>\n",
       "      <th>owner</th>\n",
       "    </tr>\n",
       "  </thead>\n",
       "  <tbody>\n",
       "    <tr>\n",
       "      <th>3290</th>\n",
       "      <td>6</td>\n",
       "      <td>3</td>\n",
       "      <td>1</td>\n",
       "      <td>1</td>\n",
       "      <td>1</td>\n",
       "      <td>0</td>\n",
       "    </tr>\n",
       "    <tr>\n",
       "      <th>874</th>\n",
       "      <td>7</td>\n",
       "      <td>3</td>\n",
       "      <td>4</td>\n",
       "      <td>1</td>\n",
       "      <td>1</td>\n",
       "      <td>0</td>\n",
       "    </tr>\n",
       "    <tr>\n",
       "      <th>2596</th>\n",
       "      <td>14</td>\n",
       "      <td>0</td>\n",
       "      <td>4</td>\n",
       "      <td>1</td>\n",
       "      <td>1</td>\n",
       "      <td>0</td>\n",
       "    </tr>\n",
       "    <tr>\n",
       "      <th>154</th>\n",
       "      <td>2</td>\n",
       "      <td>1</td>\n",
       "      <td>4</td>\n",
       "      <td>1</td>\n",
       "      <td>1</td>\n",
       "      <td>2</td>\n",
       "    </tr>\n",
       "    <tr>\n",
       "      <th>1014</th>\n",
       "      <td>14</td>\n",
       "      <td>1</td>\n",
       "      <td>1</td>\n",
       "      <td>1</td>\n",
       "      <td>1</td>\n",
       "      <td>2</td>\n",
       "    </tr>\n",
       "  </tbody>\n",
       "</table>\n",
       "</div>"
      ],
      "text/plain": [
       "      company_name  km_driven  fuel  seller_type  transmission  owner\n",
       "3290             6          3     1            1             1      0\n",
       "874              7          3     4            1             1      0\n",
       "2596            14          0     4            1             1      0\n",
       "154              2          1     4            1             1      2\n",
       "1014            14          1     1            1             1      2"
      ]
     },
     "execution_count": 43,
     "metadata": {},
     "output_type": "execute_result"
    }
   ],
   "source": [
    "# Splitting the dataset into training and test set.  \n",
    "from sklearn.model_selection import train_test_split  \n",
    "x_train, x_test, y_train, y_test= train_test_split(df1, price_range, test_size= 0.2, random_state=0)  \n",
    "\n",
    "x_train.head()"
   ]
  },
  {
   "cell_type": "code",
   "execution_count": 44,
   "id": "b5465e6d",
   "metadata": {},
   "outputs": [
    {
     "data": {
      "text/plain": [
       "LinearRegression()"
      ]
     },
     "execution_count": 44,
     "metadata": {},
     "output_type": "execute_result"
    }
   ],
   "source": [
    "#Fitting the MLR model to the training set:  \n",
    "from sklearn.linear_model import LinearRegression  \n",
    "regressor= LinearRegression()  \n",
    "regressor.fit(x_train, y_train) "
   ]
  },
  {
   "cell_type": "code",
   "execution_count": 45,
   "id": "bff21aa8",
   "metadata": {},
   "outputs": [],
   "source": [
    "#Predicting the Test set result;  \n",
    "y_pred= regressor.predict(x_test)  "
   ]
  },
  {
   "cell_type": "code",
   "execution_count": 46,
   "id": "97006de6",
   "metadata": {},
   "outputs": [
    {
     "name": "stdout",
     "output_type": "stream",
     "text": [
      "Train Score:  0.17650880921545153\n",
      "Test Score:  0.17412663952628615\n"
     ]
    }
   ],
   "source": [
    "print('Train Score: ', regressor.score(x_train, y_train))  \n",
    "print('Test Score: ', regressor.score(x_test, y_test))  "
   ]
  },
  {
   "cell_type": "raw",
   "id": "72c09269",
   "metadata": {},
   "source": [
    "Final Model Accuracy \n",
    "\n",
    "Model \t\t\t\t\t\t  Score\n",
    "\n",
    "RandomForestClassifier \t\t: 0.7099322799097065\n",
    "K Nearest Neighbor (KNN) \t: 0.692524682651622\n",
    "Gaussian Classifier    \t\t: 0.5347744360902256\n",
    "Multiple Linear Regression \t\n",
    "\t(Continuous Value)\t\t: 0.31159363906198534\n",
    "\t(Categorial Values)\t\t: 0.17412663952628615"
   ]
  }
 ],
 "metadata": {
  "kernelspec": {
   "display_name": "Python 3 (ipykernel)",
   "language": "python",
   "name": "python3"
  },
  "language_info": {
   "codemirror_mode": {
    "name": "ipython",
    "version": 3
   },
   "file_extension": ".py",
   "mimetype": "text/x-python",
   "name": "python",
   "nbconvert_exporter": "python",
   "pygments_lexer": "ipython3",
   "version": "3.8.11"
  }
 },
 "nbformat": 4,
 "nbformat_minor": 5
}
